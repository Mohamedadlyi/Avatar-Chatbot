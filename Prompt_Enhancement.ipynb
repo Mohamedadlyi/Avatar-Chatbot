{
 "cells": [
  {
   "cell_type": "code",
   "execution_count": 3,
   "metadata": {},
   "outputs": [],
   "source": [
    "import os\n",
    "import google.generativeai as genai\n",
    "from langchain.vectorstores import FAISS\n",
    "import os\n",
    "from langchain_google_genai import GoogleGenerativeAIEmbeddings"
   ]
  },
  {
   "cell_type": "code",
   "execution_count": 156,
   "metadata": {},
   "outputs": [],
   "source": [
    "class Gemini:\n",
    "\n",
    "    def __init__(self) -> None:\n",
    "        self.messages = []\n",
    "        GOOGLE_API_KEY=\"AI*************************\"\n",
    "        genai.configure(api_key=GOOGLE_API_KEY)\n",
    "        os.environ['PINECONE_API_KEY'] = 'c***********************'\n",
    "        self.vector_db = self.load_vector_db()\n",
    "        self.chat = genai.GenerativeModel('gemini-1.5-flash').start_chat(history=[])\n",
    "        print(\"Test...\")\n",
    "\n",
    "    def load_vector_db(self):\n",
    "        return FAISS.load_local(\"faiss_index\", self.embedding_google(), allow_dangerous_deserialization=True)\n",
    "\n",
    "    def embedding_google(self):\n",
    "        return GoogleGenerativeAIEmbeddings(model='models/embedding-001', task_type=\"SEMANTIC_SIMILARITY\")\n",
    "\n",
    "    def load_vector_db(self):\n",
    "        return FAISS.load_local(\"faiss_index\", self.embedding_google(), allow_dangerous_deserialization=True)\n",
    "\n",
    "    def search_similar_context(self, vector_db, question, n):\n",
    "        if vector_db:\n",
    "            docs = vector_db.similarity_search(question, k=n)\n",
    "            return docs\n",
    "\n",
    "\n",
    "    def process_question(self, question):\n",
    "        return genai.GenerativeModel('gemini-1.5-flash').generate_content(question, stream=False).text\n",
    "\n",
    "\n",
    "    def gemini(self, question):\n",
    "\n",
    "        similar_text = \"\"\n",
    "        similar_context = self.search_similar_context(self.vector_db, question, 5)\n",
    "        for context in similar_context:\n",
    "            similar_text += context.page_content\n",
    "\n",
    "        # i wanted to pass the context as system prompt but unfortunately there is only two roles [user and model].\n",
    "        # so i thought that it's posible to pass it as a seperated user prompt, or append it to the input question to pass it as cominaed user prompt\n",
    "        # prompt = f\"Use the given below context to answer the user query. {similar_text} Question: {question}?\"\n",
    "        # or self.messages.append({\"role\": \"user\", \"parts\": [similar_text]})\n",
    "\n",
    "        self.messages.append({\"role\": \"user\", \"parts\": [similar_text]})\n",
    "        self.messages.append({\"role\": \"user\", \"parts\": [question + 'in brief please']})\n",
    "        \n",
    "        response = self.process_question(self.messages)\n",
    "        self.messages.append({\"role\": \"model\", \"parts\": [response]})\n",
    "\n",
    "        return response\n",
    "    \n",
    "    def gemini_chat(self, question):\n",
    "\n",
    "        similar_text = \"\"\n",
    "        similar_context = self.search_similar_context(self.vector_db, question, 5)\n",
    "        for context in similar_context:\n",
    "            similar_text += context.page_content\n",
    "        \n",
    "        prompt = f\"Use the given below context to answer the user query. {similar_text} Question: {question}?\"\n",
    "        response = self.chat.send_message(prompt + ' in brief please')\n",
    "        \n",
    "        return response.text"
   ]
  },
  {
   "cell_type": "markdown",
   "metadata": {},
   "source": [
    "## **Using List Of History Messages**"
   ]
  },
  {
   "cell_type": "code",
   "execution_count": 183,
   "metadata": {},
   "outputs": [
    {
     "name": "stdout",
     "output_type": "stream",
     "text": [
      "Test...\n"
     ]
    }
   ],
   "source": [
    "gem = Gemini()"
   ]
  },
  {
   "cell_type": "code",
   "execution_count": 189,
   "metadata": {},
   "outputs": [
    {
     "data": {
      "text/plain": [
       "\"The Information Technology Institute (ITI) is a leading Egyptian organization that helps people develop IT skills and knowledge. Here's a quick summary:\\n\\n* **Established in 1993:**  ITI has a long history of training people in IT.\\n* **Part of the Ministry of Communications:**  ITI is supported by the Egyptian government.\\n* **Focus on Training:**  ITI offers programs to help individuals and businesses improve their IT skills.\\n* **Keeping Up with the Times:**  ITI constantly updates its courses to meet the needs of the changing IT world.\\n* **Partners with Industry:**  ITI works with businesses to make sure its programs are relevant and helpful.\\n* **Reaching Out:**  ITI has programs in universities and many areas of Egypt.\\n\\nIn short, ITI is a vital part of Egypt's IT sector, helping people and organizations succeed in the digital world. \\n\""
      ]
     },
     "execution_count": 189,
     "metadata": {},
     "output_type": "execute_result"
    }
   ],
   "source": [
    "gem.gemini(\"what is iti\")"
   ]
  },
  {
   "cell_type": "code",
   "execution_count": 190,
   "metadata": {},
   "outputs": [
    {
     "data": {
      "text/plain": [
       "\"Dr. Heba Saleh is the current Chairwoman of the Information Technology Institute (ITI). She is dedicated to developing highly skilled IT professionals who contribute to Egypt's growth and development. \\n\""
      ]
     },
     "execution_count": 190,
     "metadata": {},
     "output_type": "execute_result"
    }
   ],
   "source": [
    "gem.gemini(\"who is its chairwoman\")"
   ]
  },
  {
   "cell_type": "code",
   "execution_count": 191,
   "metadata": {},
   "outputs": [
    {
     "data": {
      "text/plain": [
       "\"Here's the duration of the three post-graduate programs at ITI:\\n\\n* **Professional Training Program:** 9 months \\n* **Other Programs:** 3 months (432 hours) \\n\\nIt seems there are two additional 3-month programs, but the details about their specific names are missing from the provided text. \\n\""
      ]
     },
     "execution_count": 191,
     "metadata": {},
     "output_type": "execute_result"
    }
   ],
   "source": [
    "gem.gemini(\"what is the duration of the three post graduate programms\")"
   ]
  },
  {
   "cell_type": "code",
   "execution_count": 144,
   "metadata": {},
   "outputs": [
    {
     "data": {
      "text/plain": [
       "'The text states that the initiative has around **30 years of experience** in the ICT field. \\n'"
      ]
     },
     "execution_count": 144,
     "metadata": {},
     "output_type": "execute_result"
    }
   ],
   "source": [
    "gem.gemini_chat('\"how long is her years of experience in technology field\"')"
   ]
  },
  {
   "cell_type": "code",
   "execution_count": 107,
   "metadata": {},
   "outputs": [
    {
     "data": {
      "text/plain": [
       "'The AI and Machine Learning track is provided in the **Professional Training Program** offered by ITI. \\n'"
      ]
     },
     "execution_count": 107,
     "metadata": {},
     "output_type": "execute_result"
    }
   ],
   "source": [
    "gem.gemini(\"in which program, ai and machine learning track provided\")"
   ]
  },
  {
   "cell_type": "code",
   "execution_count": 108,
   "metadata": {},
   "outputs": [
    {
     "data": {
      "text/plain": [
       "'The Data Science track is provided in the **Professional Training Program** offered by ITI. \\n'"
      ]
     },
     "execution_count": 108,
     "metadata": {},
     "output_type": "execute_result"
    }
   ],
   "source": [
    "gem.gemini(\"in which program, data science track provided\")"
   ]
  },
  {
   "cell_type": "code",
   "execution_count": 109,
   "metadata": {},
   "outputs": [
    {
     "data": {
      "text/plain": [
       "'The information you provided doesn\\'t specify if the Data Science track is provided in a 3-month program. It mentions a 3-month program for enrollment, but doesn\\'t link it directly to the Data Science track.  \\n\\nTo confirm, you\\'ll need to look for:\\n\\n* **Program Duration:**  Find the length of the \"Professional Training Program\" for Data Science.\\n* **Track Details:** Look for a description of the Data Science track specifically mentioning the duration. \\n'"
      ]
     },
     "execution_count": 109,
     "metadata": {},
     "output_type": "execute_result"
    }
   ],
   "source": [
    "gem.gemini(\"is it provided in 3 months program or not\")"
   ]
  },
  {
   "cell_type": "markdown",
   "metadata": {},
   "source": [
    "## **Using Chat Session**\n",
    "- #### **The ChatSession class simplifies the process by managing the state of the conversation, so unlike with generate_content, you do not have to store the conversation history as a list.**"
   ]
  },
  {
   "cell_type": "code",
   "execution_count": 178,
   "metadata": {},
   "outputs": [
    {
     "name": "stdout",
     "output_type": "stream",
     "text": [
      "Test...\n"
     ]
    }
   ],
   "source": [
    "gem = Gemini()"
   ]
  },
  {
   "cell_type": "code",
   "execution_count": 179,
   "metadata": {},
   "outputs": [
    {
     "data": {
      "text/plain": [
       "\"The Information Technology Institute (ITI) is a capacity development organization established in 1993. It's affiliated with the Ministry of Communications and Information Technology (MCIT) and focuses on training and development in the field of IT. ITI is known for its close ties to industry and academia, ensuring its programs are relevant to the ever-changing market needs. \\n\""
      ]
     },
     "execution_count": 179,
     "metadata": {},
     "output_type": "execute_result"
    }
   ],
   "source": [
    "gem.gemini_chat('what is iti')"
   ]
  },
  {
   "cell_type": "code",
   "execution_count": 180,
   "metadata": {},
   "outputs": [
    {
     "data": {
      "text/plain": [
       "'The current chairwoman of the Information Technology Institute (ITI) is Dr. Heba Saleh. \\n'"
      ]
     },
     "execution_count": 180,
     "metadata": {},
     "output_type": "execute_result"
    }
   ],
   "source": [
    "gem.gemini_chat('who is its current chairwoman')"
   ]
  },
  {
   "cell_type": "code",
   "execution_count": 181,
   "metadata": {},
   "outputs": [
    {
     "data": {
      "text/plain": [
       "'The three postgraduate programs offered by ITI each have a duration of 9 months. \\n'"
      ]
     },
     "execution_count": 181,
     "metadata": {},
     "output_type": "execute_result"
    }
   ],
   "source": [
    "gem.gemini_chat(\"what is the duration of the three post graduate programms\")"
   ]
  },
  {
   "cell_type": "markdown",
   "metadata": {},
   "source": [
    "## **Post-processing**"
   ]
  },
  {
   "cell_type": "code",
   "execution_count": 193,
   "metadata": {},
   "outputs": [],
   "source": [
    "import re\n",
    "\n",
    "def postprocessing(text):\n",
    "\n",
    "        pattern = re.compile(r'https?://\\S+|www\\.\\S+')\n",
    "        text = pattern.sub(' ', text)\n",
    "\n",
    "        pattern = re.compile(r'[*#,!?$@:;]')\n",
    "        text = pattern.sub('', text)\n",
    "\n",
    "        for pattern in ['The provided text mentions that', 'Based on the provided text', 'According to the provided text', 'The provided text states that', 'The provided text', 'The text you provided lists', 'The text you provided', 'The information you provided']:\n",
    "            text = re.sub(pattern, '' , text)\n",
    "\n",
    "        pattern = re.compile(\n",
    "            \"[\"\n",
    "            \"\\U0001F600-\\U0001F64F\"\n",
    "            \"\\U0001F300-\\U0001F5FF\"\n",
    "            \"\\U0001F680-\\U0001F6FF\"\n",
    "            \"\\U0001F700-\\U0001F77F\"\n",
    "            \"\\U0001F780-\\U0001F7FF\"\n",
    "            \"\\U0001F800-\\U0001F8FF\"\n",
    "            \"\\U0001F900-\\U0001F9FF\"\n",
    "            \"\\U0001FA00-\\U0001FA6F\"\n",
    "            \"\\U0001FA70-\\U0001FAFF\"\n",
    "            \"\\U00002702-\\U000027B0\"\n",
    "            \"\\U000024C2-\\U0001F251\"\n",
    "            \"]+\", flags=re.UNICODE)\n",
    "        \n",
    "        text = pattern.sub(' ', text)\n",
    "\n",
    "        return text.strip()"
   ]
  },
  {
   "cell_type": "code",
   "execution_count": 194,
   "metadata": {},
   "outputs": [
    {
     "data": {
      "text/plain": [
       "'from the ITI website the current Chairwoman of ITI is Dr. Heba Saleh.'"
      ]
     },
     "execution_count": 194,
     "metadata": {},
     "output_type": "execute_result"
    }
   ],
   "source": [
    "postprocessing('Based on the provided text from the ITI website, the current **Chairwoman of ITI is Dr. Heba Saleh**. \\n')"
   ]
  },
  {
   "cell_type": "code",
   "execution_count": null,
   "metadata": {},
   "outputs": [],
   "source": []
  }
 ],
 "metadata": {
  "kernelspec": {
   "display_name": "Python 3",
   "language": "python",
   "name": "python3"
  },
  "language_info": {
   "codemirror_mode": {
    "name": "ipython",
    "version": 3
   },
   "file_extension": ".py",
   "mimetype": "text/x-python",
   "name": "python",
   "nbconvert_exporter": "python",
   "pygments_lexer": "ipython3",
   "version": "3.11.9"
  }
 },
 "nbformat": 4,
 "nbformat_minor": 2
}
